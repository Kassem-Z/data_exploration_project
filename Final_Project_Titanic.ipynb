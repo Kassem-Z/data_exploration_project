{
 "cells": [
  {
   "cell_type": "markdown",
   "metadata": {},
   "source": [
    "# Análise Exploratória de Dados"
   ]
  },
  {
   "cell_type": "markdown",
   "metadata": {},
   "source": [
    "## Este projeto irá analisar o dados referentes aos passageiros a bordo do Titanic."
   ]
  },
  {
   "cell_type": "markdown",
   "metadata": {},
   "source": [
    "## Importando os dados do projeto `titanic-data-6.csv`."
   ]
  },
  {
   "cell_type": "code",
   "execution_count": 37,
   "metadata": {
    "slideshow": {
     "slide_type": "-"
    }
   },
   "outputs": [
    {
     "data": {
      "text/html": [
       "<div>\n",
       "<style scoped>\n",
       "    .dataframe tbody tr th:only-of-type {\n",
       "        vertical-align: middle;\n",
       "    }\n",
       "\n",
       "    .dataframe tbody tr th {\n",
       "        vertical-align: top;\n",
       "    }\n",
       "\n",
       "    .dataframe thead th {\n",
       "        text-align: right;\n",
       "    }\n",
       "</style>\n",
       "<table border=\"1\" class=\"dataframe\">\n",
       "  <thead>\n",
       "    <tr style=\"text-align: right;\">\n",
       "      <th></th>\n",
       "      <th>PassengerId</th>\n",
       "      <th>Survived</th>\n",
       "      <th>Pclass</th>\n",
       "      <th>Name</th>\n",
       "      <th>Sex</th>\n",
       "      <th>Age</th>\n",
       "      <th>SibSp</th>\n",
       "      <th>Parch</th>\n",
       "      <th>Ticket</th>\n",
       "      <th>Fare</th>\n",
       "      <th>Cabin</th>\n",
       "      <th>Embarked</th>\n",
       "    </tr>\n",
       "  </thead>\n",
       "  <tbody>\n",
       "    <tr>\n",
       "      <th>0</th>\n",
       "      <td>1</td>\n",
       "      <td>0</td>\n",
       "      <td>3</td>\n",
       "      <td>Braund, Mr. Owen Harris</td>\n",
       "      <td>male</td>\n",
       "      <td>22.0</td>\n",
       "      <td>1</td>\n",
       "      <td>0</td>\n",
       "      <td>A/5 21171</td>\n",
       "      <td>7.2500</td>\n",
       "      <td>NaN</td>\n",
       "      <td>S</td>\n",
       "    </tr>\n",
       "    <tr>\n",
       "      <th>1</th>\n",
       "      <td>2</td>\n",
       "      <td>1</td>\n",
       "      <td>1</td>\n",
       "      <td>Cumings, Mrs. John Bradley (Florence Briggs Th...</td>\n",
       "      <td>female</td>\n",
       "      <td>38.0</td>\n",
       "      <td>1</td>\n",
       "      <td>0</td>\n",
       "      <td>PC 17599</td>\n",
       "      <td>71.2833</td>\n",
       "      <td>C85</td>\n",
       "      <td>C</td>\n",
       "    </tr>\n",
       "    <tr>\n",
       "      <th>2</th>\n",
       "      <td>3</td>\n",
       "      <td>1</td>\n",
       "      <td>3</td>\n",
       "      <td>Heikkinen, Miss. Laina</td>\n",
       "      <td>female</td>\n",
       "      <td>26.0</td>\n",
       "      <td>0</td>\n",
       "      <td>0</td>\n",
       "      <td>STON/O2. 3101282</td>\n",
       "      <td>7.9250</td>\n",
       "      <td>NaN</td>\n",
       "      <td>S</td>\n",
       "    </tr>\n",
       "    <tr>\n",
       "      <th>3</th>\n",
       "      <td>4</td>\n",
       "      <td>1</td>\n",
       "      <td>1</td>\n",
       "      <td>Futrelle, Mrs. Jacques Heath (Lily May Peel)</td>\n",
       "      <td>female</td>\n",
       "      <td>35.0</td>\n",
       "      <td>1</td>\n",
       "      <td>0</td>\n",
       "      <td>113803</td>\n",
       "      <td>53.1000</td>\n",
       "      <td>C123</td>\n",
       "      <td>S</td>\n",
       "    </tr>\n",
       "    <tr>\n",
       "      <th>4</th>\n",
       "      <td>5</td>\n",
       "      <td>0</td>\n",
       "      <td>3</td>\n",
       "      <td>Allen, Mr. William Henry</td>\n",
       "      <td>male</td>\n",
       "      <td>35.0</td>\n",
       "      <td>0</td>\n",
       "      <td>0</td>\n",
       "      <td>373450</td>\n",
       "      <td>8.0500</td>\n",
       "      <td>NaN</td>\n",
       "      <td>S</td>\n",
       "    </tr>\n",
       "  </tbody>\n",
       "</table>\n",
       "</div>"
      ],
      "text/plain": [
       "   PassengerId  Survived  Pclass  \\\n",
       "0            1         0       3   \n",
       "1            2         1       1   \n",
       "2            3         1       3   \n",
       "3            4         1       1   \n",
       "4            5         0       3   \n",
       "\n",
       "                                                Name     Sex   Age  SibSp  \\\n",
       "0                            Braund, Mr. Owen Harris    male  22.0      1   \n",
       "1  Cumings, Mrs. John Bradley (Florence Briggs Th...  female  38.0      1   \n",
       "2                             Heikkinen, Miss. Laina  female  26.0      0   \n",
       "3       Futrelle, Mrs. Jacques Heath (Lily May Peel)  female  35.0      1   \n",
       "4                           Allen, Mr. William Henry    male  35.0      0   \n",
       "\n",
       "   Parch            Ticket     Fare Cabin Embarked  \n",
       "0      0         A/5 21171   7.2500   NaN        S  \n",
       "1      0          PC 17599  71.2833   C85        C  \n",
       "2      0  STON/O2. 3101282   7.9250   NaN        S  \n",
       "3      0            113803  53.1000  C123        S  \n",
       "4      0            373450   8.0500   NaN        S  "
      ]
     },
     "execution_count": 37,
     "metadata": {},
     "output_type": "execute_result"
    }
   ],
   "source": [
    "import pandas as pd\n",
    "import numpy as np\n",
    "import matplotlib.pyplot as plt\n",
    "import seaborn as sns\n",
    "% matplotlib inline\n",
    "\n",
    "df_titanic = pd.read_csv('titanic-data-6.csv')\n",
    "df_titanic.head()"
   ]
  },
  {
   "cell_type": "markdown",
   "metadata": {},
   "source": [
    "<i>Os 5 primeiros registros do dataframe de passageiros do Titanic</i>"
   ]
  },
  {
   "cell_type": "markdown",
   "metadata": {},
   "source": [
    "<h2> Perguntas e questões para EDA </h2> <br>\n",
    "\n",
    "<ol>\n",
    "    <li>Quantidade de amostras? <br>\n",
    "    <li>Quantidade de colunas? <br>\n",
    "    <li>Quantos passageiros a bordo e quantos sobreviventes? <br>\n",
    "    <li>Qual ponto de embarque recebeu mais passageiros? <br>\n",
    "    <li>Qual a relação entre ponto de embarque e status sócio-econômico? <br>\n",
    "    <li>Quais fatores fizeram com que os passageiros fossem mais propensos a sobreviver?\n",
    "    <ul>\n",
    "        <li> Qual a relação entre status sócio-econômico e sobreviventes?\n",
    "        <li> Qual ponto de embarque apresentou maior média de sobreviventes?\n",
    "        <li> Qual sexo apresentou uma maior proporção de sobreviventes?\n",
    "        <li> Qual a proporção e a média por faixa etária de sobreviventes?\n",
    "    </ul>\n",
    "</ol>"
   ]
  },
  {
   "cell_type": "markdown",
   "metadata": {},
   "source": [
    "<h1> Verificação e limpeza do <i>Dataframe</i></h1>"
   ]
  },
  {
   "cell_type": "markdown",
   "metadata": {},
   "source": [
    "<b> Existem dados duplicados? </b>"
   ]
  },
  {
   "cell_type": "code",
   "execution_count": 38,
   "metadata": {},
   "outputs": [
    {
     "name": "stdout",
     "output_type": "stream",
     "text": [
      "Não há dados duplicados.\n"
     ]
    }
   ],
   "source": [
    "# Verifico se a soma da quantidade de linha duplicadas é 0 (zero), identificando assim se há dados duplicados ou não\n",
    "if df_titanic.duplicated().sum() == 0:\n",
    "    print('Não há dados duplicados.')\n",
    "else:\n",
    "    # Caso tenha dados duplicados, mostra o total de duplicados\n",
    "    print('Existem {} dados duplicados'.format(df_titanic.duplicated().sum()))"
   ]
  },
  {
   "cell_type": "markdown",
   "metadata": {},
   "source": [
    "<b> Existem colunas com dados nulos? </b>"
   ]
  },
  {
   "cell_type": "code",
   "execution_count": 39,
   "metadata": {},
   "outputs": [
    {
     "name": "stdout",
     "output_type": "stream",
     "text": [
      "Coluna \"Age\" faltando 177 registros.\n",
      "Coluna \"Cabin\" faltando 687 registros.\n",
      "Coluna \"Embarked\" faltando 2 registros.\n"
     ]
    }
   ],
   "source": [
    "# Verifica se o dataframe possui dados faltantes\n",
    "def checa_dados_faltantes(df):\n",
    "    # Atribui, em forma de vetor, as colunas com valores faltantes ao vetor null_columns\n",
    "    null_columns = df.columns[df.isnull().any()]\n",
    "    # Caso não tenha colunas no vetor, então não há dados faltantes. Imprime a informação e encerra a função\n",
    "    if null_columns is None:\n",
    "        print('Nenhum dado faltando.')\n",
    "        return\n",
    "    # Se chegar neste ponto, então existe colunas com dados faltantes.\n",
    "    # Para cada coluna com nulos, imprime o nome da coluna e seu respectivo total de registros nulos.\n",
    "    for null_column in null_columns:\n",
    "        print('Coluna \"{}\" faltando {} registros.'.format(null_column, df[null_column].isnull().sum()))\n",
    "    \n",
    "    \n",
    "checa_dados_faltantes(df_titanic)"
   ]
  },
  {
   "cell_type": "markdown",
   "metadata": {},
   "source": [
    "<b>A coluna <i>Cabin</i> contém mais que a metade do tamanho do <i>dataframe</i> em valores nulos. Como os dados de <i>Cabin</i> não serão analisados neste projeto, a coluna será deletada do conjunto.</b>"
   ]
  },
  {
   "cell_type": "code",
   "execution_count": 40,
   "metadata": {},
   "outputs": [],
   "source": [
    "df_titanic.drop(labels='Cabin', axis=1, inplace=True)"
   ]
  },
  {
   "cell_type": "markdown",
   "metadata": {},
   "source": [
    "<b>As colunas <i>Age</i> e <i>Embarked</i> serão analisadas, portanto as linhas com dados nulos serão descartadas.</b><br>\n",
    "<i>Obs.: Poderíamos usar um método de preenchimento da média de idade para as linhas de valores nulos, mas como queremos identificar a faixa etária com maior número de sobreviventes, este método atrapalharia a amostragem.</i>"
   ]
  },
  {
   "cell_type": "code",
   "execution_count": 41,
   "metadata": {},
   "outputs": [],
   "source": [
    "df_titanic.dropna(subset=['Age'], inplace=True)\n",
    "df_titanic.dropna(subset=['Embarked'], inplace=True)"
   ]
  },
  {
   "cell_type": "markdown",
   "metadata": {},
   "source": [
    "<h1> Análise das informações do <i>Dataframe</i> </h1>"
   ]
  },
  {
   "cell_type": "markdown",
   "metadata": {},
   "source": [
    "### Quantidade de amostras?"
   ]
  },
  {
   "cell_type": "code",
   "execution_count": 42,
   "metadata": {
    "scrolled": true
   },
   "outputs": [
    {
     "name": "stdout",
     "output_type": "stream",
     "text": [
      "O conjunto de dados possui (712,) amostras\n"
     ]
    }
   ],
   "source": [
    "print(\"O conjunto de dados possui {} amostras\".format(df_titanic.shape[:1]))"
   ]
  },
  {
   "cell_type": "markdown",
   "metadata": {},
   "source": [
    "### Quantidade de colunas?"
   ]
  },
  {
   "cell_type": "code",
   "execution_count": 43,
   "metadata": {},
   "outputs": [
    {
     "name": "stdout",
     "output_type": "stream",
     "text": [
      "O conjunto de dados possui (11,) colunas\n"
     ]
    }
   ],
   "source": [
    "print(\"O conjunto de dados possui {} colunas\".format(df_titanic.shape[1:2]))"
   ]
  },
  {
   "cell_type": "markdown",
   "metadata": {},
   "source": [
    "### Quantos passageiros a bordo e quantos sobreviventes?"
   ]
  },
  {
   "cell_type": "code",
   "execution_count": 44,
   "metadata": {},
   "outputs": [
    {
     "name": "stdout",
     "output_type": "stream",
     "text": [
      "Total de passageiros: 712 \n",
      "Total de sobreviventes: 288\n"
     ]
    }
   ],
   "source": [
    "print(\"Total de passageiros: {} \\nTotal de sobreviventes: {}\".format(\n",
    "                df_titanic['Survived'].count(),\n",
    "                df_titanic.query('Survived == 1')['Survived'].count()))"
   ]
  },
  {
   "cell_type": "markdown",
   "metadata": {},
   "source": [
    "### Qual ponto de embarque recebeu mais passageiros?"
   ]
  },
  {
   "cell_type": "code",
   "execution_count": 45,
   "metadata": {},
   "outputs": [
    {
     "data": {
      "image/png": "[encoded data removed]",
      "text/plain": [
       "<Figure size 432x288 with 1 Axes>"
      ]
     },
     "metadata": {},
     "output_type": "display_data"
    }
   ],
   "source": [
    "# Atribúo o gráfico de passageiros por ponto de embarque a passenger_by_embarked\n",
    "passenger_by_embarked = sns.stripplot(x=\"Embarked\", y=\"PassengerId\", data=df_titanic, jitter=True)\n",
    "# Seto o título e imprimo o gráfico\n",
    "passenger_by_embarked.set_title(\"Gráfico de passageiros por ponto de embarque\");"
   ]
  },
  {
   "cell_type": "markdown",
   "metadata": {},
   "source": [
    "<i>O ponto de embarque S recebeu maior número de passageiros</i>"
   ]
  },
  {
   "cell_type": "markdown",
   "metadata": {},
   "source": [
    "### Qual a relação entre ponto de embarque e status sócio-econômico?"
   ]
  },
  {
   "cell_type": "code",
   "execution_count": 46,
   "metadata": {},
   "outputs": [
    {
     "data": {
      "image/png": "[encoded data removed]",
      "text/plain": [
       "<Figure size 432x288 with 1 Axes>"
      ]
     },
     "metadata": {},
     "output_type": "display_data"
    }
   ],
   "source": [
    "# Atribúo o gráfico de passageiros por ponto de embarque e status sócio-econômico a amount_embarked_by_pclass\n",
    "amount_embarked_by_pclass = sns.countplot(x=\"Embarked\", hue=\"Pclass\", data=df_titanic)\n",
    "# Seto o título e imprimo o gráfico\n",
    "amount_embarked_by_pclass.set_title(\"Gráfico de passageiros por ponto de embarque e status sócio-econômico\");"
   ]
  },
  {
   "cell_type": "markdown",
   "metadata": {},
   "source": [
    "<i> O ponto de embarque S teve o maior número de passageiros embarcando nas três classes. O ponto C teve maior número de passageiros da primeira e terceira classe. Já o ponto Q recebeu, praticamente, apenas passageiros da terceira classe.</i>"
   ]
  },
  {
   "cell_type": "markdown",
   "metadata": {},
   "source": [
    "## Análise para identificar quais fatores fizeram com que os passageiros fossem propensos a sobreviver"
   ]
  },
  {
   "cell_type": "markdown",
   "metadata": {},
   "source": [
    "### Qual a relação entre status sócio-econômico e sobreviventes?\n",
    "\n",
    "<b>Passageiros com maior status sócio-econômico apresentam maior proporção de sobreviventes?</b>"
   ]
  },
  {
   "cell_type": "code",
   "execution_count": 58,
   "metadata": {},
   "outputs": [
    {
     "data": {
      "text/html": [
       "<div>\n",
       "<style scoped>\n",
       "    .dataframe tbody tr th:only-of-type {\n",
       "        vertical-align: middle;\n",
       "    }\n",
       "\n",
       "    .dataframe tbody tr th {\n",
       "        vertical-align: top;\n",
       "    }\n",
       "\n",
       "    .dataframe thead th {\n",
       "        text-align: right;\n",
       "    }\n",
       "</style>\n",
       "<table border=\"1\" class=\"dataframe\">\n",
       "  <thead>\n",
       "    <tr style=\"text-align: right;\">\n",
       "      <th></th>\n",
       "      <th>PassengerId</th>\n",
       "      <th>Survived</th>\n",
       "      <th>Pclass</th>\n",
       "      <th>Name</th>\n",
       "      <th>Sex</th>\n",
       "      <th>Age</th>\n",
       "      <th>SibSp</th>\n",
       "      <th>Parch</th>\n",
       "      <th>Ticket</th>\n",
       "      <th>Fare</th>\n",
       "      <th>Embarked</th>\n",
       "      <th>Sex_int</th>\n",
       "      <th>Age_int</th>\n",
       "      <th>Age_str</th>\n",
       "    </tr>\n",
       "  </thead>\n",
       "  <tbody>\n",
       "    <tr>\n",
       "      <th>1</th>\n",
       "      <td>2</td>\n",
       "      <td>1</td>\n",
       "      <td>1</td>\n",
       "      <td>Cumings, Mrs. John Bradley (Florence Briggs Th...</td>\n",
       "      <td>female</td>\n",
       "      <td>38.0</td>\n",
       "      <td>1</td>\n",
       "      <td>0</td>\n",
       "      <td>PC 17599</td>\n",
       "      <td>71.2833</td>\n",
       "      <td>C</td>\n",
       "      <td>1</td>\n",
       "      <td>4</td>\n",
       "      <td>Adulto</td>\n",
       "    </tr>\n",
       "    <tr>\n",
       "      <th>2</th>\n",
       "      <td>3</td>\n",
       "      <td>1</td>\n",
       "      <td>3</td>\n",
       "      <td>Heikkinen, Miss. Laina</td>\n",
       "      <td>female</td>\n",
       "      <td>26.0</td>\n",
       "      <td>0</td>\n",
       "      <td>0</td>\n",
       "      <td>STON/O2. 3101282</td>\n",
       "      <td>7.9250</td>\n",
       "      <td>S</td>\n",
       "      <td>1</td>\n",
       "      <td>3</td>\n",
       "      <td>Jovem</td>\n",
       "    </tr>\n",
       "    <tr>\n",
       "      <th>3</th>\n",
       "      <td>4</td>\n",
       "      <td>1</td>\n",
       "      <td>1</td>\n",
       "      <td>Futrelle, Mrs. Jacques Heath (Lily May Peel)</td>\n",
       "      <td>female</td>\n",
       "      <td>35.0</td>\n",
       "      <td>1</td>\n",
       "      <td>0</td>\n",
       "      <td>113803</td>\n",
       "      <td>53.1000</td>\n",
       "      <td>S</td>\n",
       "      <td>1</td>\n",
       "      <td>4</td>\n",
       "      <td>Adulto</td>\n",
       "    </tr>\n",
       "    <tr>\n",
       "      <th>8</th>\n",
       "      <td>9</td>\n",
       "      <td>1</td>\n",
       "      <td>3</td>\n",
       "      <td>Johnson, Mrs. Oscar W (Elisabeth Vilhelmina Berg)</td>\n",
       "      <td>female</td>\n",
       "      <td>27.0</td>\n",
       "      <td>0</td>\n",
       "      <td>2</td>\n",
       "      <td>347742</td>\n",
       "      <td>11.1333</td>\n",
       "      <td>S</td>\n",
       "      <td>1</td>\n",
       "      <td>3</td>\n",
       "      <td>Jovem</td>\n",
       "    </tr>\n",
       "    <tr>\n",
       "      <th>9</th>\n",
       "      <td>10</td>\n",
       "      <td>1</td>\n",
       "      <td>2</td>\n",
       "      <td>Nasser, Mrs. Nicholas (Adele Achem)</td>\n",
       "      <td>female</td>\n",
       "      <td>14.0</td>\n",
       "      <td>1</td>\n",
       "      <td>0</td>\n",
       "      <td>237736</td>\n",
       "      <td>30.0708</td>\n",
       "      <td>C</td>\n",
       "      <td>1</td>\n",
       "      <td>2</td>\n",
       "      <td>Adolescente</td>\n",
       "    </tr>\n",
       "  </tbody>\n",
       "</table>\n",
       "</div>"
      ],
      "text/plain": [
       "   PassengerId  Survived  Pclass  \\\n",
       "1            2         1       1   \n",
       "2            3         1       3   \n",
       "3            4         1       1   \n",
       "8            9         1       3   \n",
       "9           10         1       2   \n",
       "\n",
       "                                                Name     Sex   Age  SibSp  \\\n",
       "1  Cumings, Mrs. John Bradley (Florence Briggs Th...  female  38.0      1   \n",
       "2                             Heikkinen, Miss. Laina  female  26.0      0   \n",
       "3       Futrelle, Mrs. Jacques Heath (Lily May Peel)  female  35.0      1   \n",
       "8  Johnson, Mrs. Oscar W (Elisabeth Vilhelmina Berg)  female  27.0      0   \n",
       "9                Nasser, Mrs. Nicholas (Adele Achem)  female  14.0      1   \n",
       "\n",
       "   Parch            Ticket     Fare Embarked  Sex_int  Age_int      Age_str  \n",
       "1      0          PC 17599  71.2833        C        1        4       Adulto  \n",
       "2      0  STON/O2. 3101282   7.9250        S        1        3        Jovem  \n",
       "3      0            113803  53.1000        S        1        4       Adulto  \n",
       "8      2            347742  11.1333        S        1        3        Jovem  \n",
       "9      0            237736  30.0708        C        1        2  Adolescente  "
      ]
     },
     "execution_count": 58,
     "metadata": {},
     "output_type": "execute_result"
    }
   ],
   "source": [
    "# Criando um dataframe apenas com as informações de sobreviventes, para facilitar as próximas análises\n",
    "df_survived = df_titanic.query('Survived == 1')\n",
    "df_survived.head()"
   ]
  },
  {
   "cell_type": "markdown",
   "metadata": {},
   "source": [
    "<i>Os 5 primeiros registros do dataframe de sobreviventes do Titanic</i>"
   ]
  },
  {
   "cell_type": "code",
   "execution_count": 48,
   "metadata": {},
   "outputs": [
    {
     "data": {
      "image/png": "[encoded data removed]",
      "text/plain": [
       "<Figure size 432x288 with 1 Axes>"
      ]
     },
     "metadata": {},
     "output_type": "display_data"
    }
   ],
   "source": [
    "# Criando um gráfico sobreposto, comparando os dados totais com os de sobreviventes (df_titanic x df_survived)\n",
    "plt.bar([1, 2, 3], df_titanic.groupby('Pclass')['Pclass'].count(), tick_label=['Classe 1', 'Classe 2', 'Classe 3']);\n",
    "plt.bar([1, 2, 3], df_survived.groupby('Pclass')['Pclass'].count(), tick_label=['Classe 1', 'Classe 2', 'Classe 3']);\n",
    "plt.title('Gráfico de sobreviventes por status sócio-econômico', fontsize=13);\n",
    "# Labels para X e Y\n",
    "plt.xlabel('Status Sócio-Econômico', fontsize=15);\n",
    "plt.ylabel('Passageiros', fontsize=15);\n",
    "# Legendas\n",
    "plt.legend(['Total', 'Sobreviventes']);"
   ]
  },
  {
   "cell_type": "markdown",
   "metadata": {},
   "source": [
    "<i>A classe 1 teve a maior proporção de sobreviventes, já a classe 3 apresenta a menor proporção de sobreviventes</i>"
   ]
  },
  {
   "cell_type": "markdown",
   "metadata": {},
   "source": [
    "### Qual ponto de embarque apresentou maior média de sobreviventes? "
   ]
  },
  {
   "cell_type": "code",
   "execution_count": 49,
   "metadata": {},
   "outputs": [
    {
     "data": {
      "image/png": "[encoded data removed]",
      "text/plain": [
       "<Figure size 432x288 with 1 Axes>"
      ]
     },
     "metadata": {},
     "output_type": "display_data"
    }
   ],
   "source": [
    "# Média de sobreviventes por ponto de embarque\n",
    "fracs_embarked_mean = (df_titanic.groupby('Embarked').mean()['Survived'])*100\n",
    "\n",
    "# Crio um gráfico de linha para a média de sobreviventes por faixa etária\n",
    "plt.plot(fracs_embarked_mean)\n",
    "plt.title('Média de sobreviventes por ponto de embarque', fontsize=13)\n",
    "# Label de X e Y\n",
    "plt.xlabel('Ponto de embarque', fontsize=15)\n",
    "plt.ylabel('Percentual ', fontsize=15);"
   ]
  },
  {
   "cell_type": "markdown",
   "metadata": {},
   "source": [
    "<i>O ponto de embarque C obteve a maior média de sobreviventes</i>"
   ]
  },
  {
   "cell_type": "markdown",
   "metadata": {},
   "source": [
    "### Qual sexo apresentou maior proporção de sobreviventes?"
   ]
  },
  {
   "cell_type": "code",
   "execution_count": 50,
   "metadata": {},
   "outputs": [
    {
     "name": "stderr",
     "output_type": "stream",
     "text": [
      "C:\\Users\\KassemZ\\Anaconda3\\lib\\site-packages\\ipykernel_launcher.py:21: SettingWithCopyWarning: \n",
      "A value is trying to be set on a copy of a slice from a DataFrame.\n",
      "Try using .loc[row_indexer,col_indexer] = value instead\n",
      "\n",
      "See the caveats in the documentation: http://pandas.pydata.org/pandas-docs/stable/indexing.html#indexing-view-versus-copy\n"
     ]
    }
   ],
   "source": [
    "# Cria um vetor de inteiros equivalente a: 0 = Masculino, 1 = Feminino\n",
    "def create_sex_int_array(df_sex):\n",
    "    # Vetor que será alimentado com as informações e retornado pela função\n",
    "    sex_int_array = []\n",
    "    # Para cada sexo no df_sexo, appenda 0 para male e 1 para o resto (female)\n",
    "    for sex in df_sex:\n",
    "        if sex.lower() == 'male':\n",
    "            sex_int_array.append(0)\n",
    "        else:\n",
    "            sex_int_array.append(1)\n",
    "    \n",
    "    return sex_int_array\n",
    "\n",
    "# Crio dois vetores de inteiros, um equivalente ao dataframe total (df_titanic)\n",
    "sex_int = create_sex_int_array(df_titanic['Sex'])\n",
    "# e outro ao dataframe de sobreviventes (df_survived)\n",
    "sex_survived_int = create_sex_int_array(df_survived['Sex'])\n",
    "\n",
    "# Cria uma nova coluna 'Sex_int' em cada dataframe\n",
    "df_titanic['Sex_int'] = sex_int\n",
    "df_survived['Sex_int'] = sex_survived_int"
   ]
  },
  {
   "cell_type": "code",
   "execution_count": 51,
   "metadata": {},
   "outputs": [
    {
     "data": {
      "image/png": "[encoded data removed]",
      "text/plain": [
       "<Figure size 432x288 with 1 Axes>"
      ]
     },
     "metadata": {},
     "output_type": "display_data"
    }
   ],
   "source": [
    "# label de cada barra\n",
    "label_sex = ['Masculino', 'Feminino']\n",
    "\n",
    "# Crio dois gráficos sobrepostos, comparando total de passageiros com sobreviventes por sexo\n",
    "plt.bar([1, 2], df_titanic.groupby('Sex_int')['Sex_int'].count(), tick_label=label_sex)\n",
    "plt.bar([1, 2], df_survived.groupby('Sex_int')['Sex_int'].count(), tick_label=label_sex)\n",
    "plt.title('Gráfico de sobreviventes por gênero', fontsize=13)\n",
    "# Labels para X e Y\n",
    "plt.xlabel('Gênero', fontsize=15)\n",
    "plt.ylabel('Passageiros', fontsize=15);\n",
    "# Legendas\n",
    "plt.legend(['Total', 'Sobreviventes']);"
   ]
  },
  {
   "cell_type": "markdown",
   "metadata": {},
   "source": [
    "<i>Passageiros do sexo feminino tiveram a maior proporção de sobreviventes</i>"
   ]
  },
  {
   "cell_type": "markdown",
   "metadata": {},
   "source": [
    "### Qual faixa etária apresentou maior proporção de sobreviventes?\n",
    "\n",
    "<b>Considere a faixa etária da seguinte forma:</b>\n",
    "    <ul>\n",
    "        <i>\n",
    "        <li>Criança: de 0 até 11 anos\n",
    "        <li>Adolescente: 12 a 18 anos\n",
    "        <li>Jovem: 19 a 30 anos\n",
    "        <li>Adulto: 31 a 59 anos\n",
    "        <li>Idoso: acima de 60 anos\n",
    "        </i>\n",
    "    </ul>"
   ]
  },
  {
   "cell_type": "code",
   "execution_count": 52,
   "metadata": {},
   "outputs": [],
   "source": [
    "# Cria um vetor de acordo com 5 definições recebidas por parâmetro: \n",
    "# 1 = Criança, 2 = Adolescente, 3 = Jovem, 4 = Adulto, 5 = Idoso\n",
    "def create_age_array(df_age, age_definitions):\n",
    "    age_array = []\n",
    "    for age in df_age:\n",
    "        # Criança\n",
    "        if 0 <= age <= 11:\n",
    "            age_array.append(age_definitions[0])\n",
    "        # Adolescente\n",
    "        elif 12 <= age <= 18:\n",
    "            age_array.append(age_definitions[1])\n",
    "        # Jovem\n",
    "        elif 19 <= age <= 30:\n",
    "            age_array.append(age_definitions[2])\n",
    "        # Adulto\n",
    "        elif 31 < age <= 59:\n",
    "            age_array.append(age_definitions[3])\n",
    "        # Idoso\n",
    "        else:\n",
    "            age_array.append(age_definitions[4])\n",
    "    \n",
    "    return age_array"
   ]
  },
  {
   "cell_type": "code",
   "execution_count": 53,
   "metadata": {},
   "outputs": [
    {
     "name": "stderr",
     "output_type": "stream",
     "text": [
      "C:\\Users\\KassemZ\\Anaconda3\\lib\\site-packages\\ipykernel_launcher.py:11: SettingWithCopyWarning: \n",
      "A value is trying to be set on a copy of a slice from a DataFrame.\n",
      "Try using .loc[row_indexer,col_indexer] = value instead\n",
      "\n",
      "See the caveats in the documentation: http://pandas.pydata.org/pandas-docs/stable/indexing.html#indexing-view-versus-copy\n",
      "  # This is added back by InteractiveShellApp.init_path()\n"
     ]
    }
   ],
   "source": [
    "# 1 = Criança, 2 = Adolescente, 3 = Jovem, 4 = Adulto, 5 = Idoso\n",
    "age_definitions = [1, 2, 3, 4, 5]\n",
    "\n",
    "# Crio dois vetores de inteiros, um equivalente ao dataframe total (df_titanic)\n",
    "age_int = create_age_array(df_titanic['Age'], age_definitions)\n",
    "# e outro ao dataframe de sobreviventes (df_survived)\n",
    "age_survived_int = create_age_array(df_survived['Age'], age_definitions)\n",
    "\n",
    "# Cria uma nova coluna 'Age_int' em cada dataframe\n",
    "df_titanic['Age_int'] = age_int\n",
    "df_survived['Age_int'] = age_survived_int"
   ]
  },
  {
   "cell_type": "code",
   "execution_count": 54,
   "metadata": {},
   "outputs": [],
   "source": [
    "# Label padrão para faixa etária\n",
    "label_age = ['Criança', 'Adolescente', 'Jovem', 'Adulto', 'Idoso']"
   ]
  },
  {
   "cell_type": "code",
   "execution_count": 55,
   "metadata": {},
   "outputs": [
    {
     "data": {
      "image/png": "[encoded data removed]",
      "text/plain": [
       "<Figure size 432x288 with 1 Axes>"
      ]
     },
     "metadata": {},
     "output_type": "display_data"
    }
   ],
   "source": [
    "# Crio dois gráficos sobrepostos, comparando total de passageiros com sobreviventes por faixa etária\n",
    "plt.bar([1, 2, 3, 4, 5], df_titanic.groupby('Age_int')['Age_int'].count(), tick_label=label_age)\n",
    "plt.bar([1, 2, 3, 4, 5], df_survived.groupby('Age_int')['Age_int'].count(), tick_label=label_age)\n",
    "plt.title('Gráfico de sobreviventes por faixa etária', fontsize=13)\n",
    "# Labels para X e Y\n",
    "plt.xlabel('Faixa etária', fontsize=15)\n",
    "plt.ylabel('Passageiros', fontsize=15);\n",
    "# Legendas\n",
    "plt.legend(['Total', 'Sobreviventes']);"
   ]
  },
  {
   "cell_type": "markdown",
   "metadata": {},
   "source": [
    "<i>Crianças tiveram a maior proporção de sobreviventes. Já idosos, jovens e adultos tiveram as menores proporções</i>"
   ]
  },
  {
   "cell_type": "markdown",
   "metadata": {},
   "source": [
    "### Qual a média de sobreviventes por faixa etária?"
   ]
  },
  {
   "cell_type": "code",
   "execution_count": 56,
   "metadata": {},
   "outputs": [
    {
     "name": "stderr",
     "output_type": "stream",
     "text": [
      "C:\\Users\\KassemZ\\Anaconda3\\lib\\site-packages\\ipykernel_launcher.py:13: SettingWithCopyWarning: \n",
      "A value is trying to be set on a copy of a slice from a DataFrame.\n",
      "Try using .loc[row_indexer,col_indexer] = value instead\n",
      "\n",
      "See the caveats in the documentation: http://pandas.pydata.org/pandas-docs/stable/indexing.html#indexing-view-versus-copy\n",
      "  del sys.path[0]\n"
     ]
    }
   ],
   "source": [
    "# Realizo esse procedimento para que o label em X do gráfico de linha mais abaixo fique intuitivo\n",
    "\n",
    "# Atribuo o label da faixa etária para as definições\n",
    "age_definitions = label_age\n",
    "\n",
    "# Crio dois vetores de strings, um equivalente ao dataframe total (df_titanic)\n",
    "age_str = create_age_array(df_titanic['Age'], age_definitions)\n",
    "# e outro ao dataframe de sobreviventes (df_survived)\n",
    "age_survived_str = create_age_array(df_survived['Age'], age_definitions)\n",
    "\n",
    "# Cria uma nova coluna 'Age_str' em cada dataframe\n",
    "df_titanic['Age_str'] = age_str\n",
    "df_survived['Age_str'] = age_survived_str"
   ]
  },
  {
   "cell_type": "code",
   "execution_count": 57,
   "metadata": {
    "scrolled": true
   },
   "outputs": [
    {
     "data": {
      "image/png": "[encoded data removed]",
      "text/plain": [
       "<Figure size 432x288 with 1 Axes>"
      ]
     },
     "metadata": {},
     "output_type": "display_data"
    }
   ],
   "source": [
    "# Média de sobreviventes por faixa etária\n",
    "fracs = (df_titanic.groupby('Age_str').mean()['Survived'])*100\n",
    "\n",
    "# Crio um gráfico de linha para a média de sobreviventes por faixa etária\n",
    "plt.plot(fracs)\n",
    "plt.title('Média de sobreviventes por faixa etária', fontsize=13)\n",
    "# Label de X e Y\n",
    "plt.xlabel('Faixa etária', fontsize=15)\n",
    "plt.ylabel('Percentual ', fontsize=15);"
   ]
  },
  {
   "cell_type": "markdown",
   "metadata": {},
   "source": [
    "<i>Crianças e adolescentes apresentaram a maior média de sobreviventes, comparados as demais faixas etárias</i>"
   ]
  },
  {
   "cell_type": "markdown",
   "metadata": {},
   "source": [
    "# Conclusão"
   ]
  },
  {
   "cell_type": "markdown",
   "metadata": {},
   "source": [
    "## Limitações"
   ]
  },
  {
   "cell_type": "markdown",
   "metadata": {},
   "source": [
    "Apesar das conclusões obtidas, a análise possui suas limitações. As informações contidas no <i>dataframe</i> correspondem aos dados de 891 dos 2.224 passageiros a bordo do Titanic. Além disso, ainda foi necessário deletar cerca de 177 linhas com valores nulos em campos que seriam analisados, como \"Age\" e \"Embarked\".\n",
    "\n",
    "Portanto, não é possível assegurar que os resultados aqui alcançados são definitivos."
   ]
  },
  {
   "cell_type": "markdown",
   "metadata": {},
   "source": [
    "## Conclusões"
   ]
  },
  {
   "cell_type": "markdown",
   "metadata": {},
   "source": [
    "Através da EDA foi possível identificar informações e fatores que, apesar de contidos no <i>dataframe</i>, não estavam explícitos.\n",
    "\n",
    "Identificou-se que, de um total de 712 passageiros, apenas 288 sobreviveram. O ponto S (Southampton) embarcou a maior parte dos passageiros, sendo sua maioria de classe 3, enquanto que o ponto C (Cherbourg) embarcou em sua maioria passageiros de classe 1. Avaliou-se também que a maior média de sobreviventes embarcou em C.\n",
    "\n",
    "Quanto ao status sócio-econômico, identifcou-se que a maior proporção de sobreviventes eram de classe 1, enquanto que a classe 3 teve o menor número de sobreviventes. Na análise de gênero, o maior número de sobreviventes eram do sexo feminino.\n",
    "\n",
    "A análise por faixa etária identificou que a maior média de sobreviventes foram de crianças e adolescentes, ao passo que a menor média foram de idosos e jovens."
   ]
  }
 ],
 "metadata": {
  "kernelspec": {
   "display_name": "Python 3",
   "language": "python",
   "name": "python3"
  },
  "language_info": {
   "codemirror_mode": {
    "name": "ipython",
    "version": 3
   },
   "file_extension": ".py",
   "mimetype": "text/x-python",
   "name": "python",
   "nbconvert_exporter": "python",
   "pygments_lexer": "ipython3",
   "version": "3.6.4"
  }
 },
 "nbformat": 4,
 "nbformat_minor": 2
}
